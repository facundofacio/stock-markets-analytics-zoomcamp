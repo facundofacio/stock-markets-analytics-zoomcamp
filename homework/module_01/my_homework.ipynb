{
 "cells": [
  {
   "cell_type": "markdown",
   "id": "3c4b0712",
   "metadata": {},
   "source": [
    "## Facundo Facio's homework 1"
   ]
  },
  {
   "cell_type": "markdown",
   "id": "d61e32aa",
   "metadata": {},
   "source": [
    "### Question 1: [Index] S&P 500 Stocks Added to the Index"
   ]
  },
  {
   "cell_type": "code",
   "execution_count": 1,
   "id": "d6fba67b",
   "metadata": {},
   "outputs": [],
   "source": [
    "import pandas as pd"
   ]
  },
  {
   "cell_type": "code",
   "execution_count": 33,
   "id": "468f05f3",
   "metadata": {},
   "outputs": [
    {
     "data": {
      "text/html": [
       "<div>\n",
       "<style scoped>\n",
       "    .dataframe tbody tr th:only-of-type {\n",
       "        vertical-align: middle;\n",
       "    }\n",
       "\n",
       "    .dataframe tbody tr th {\n",
       "        vertical-align: top;\n",
       "    }\n",
       "\n",
       "    .dataframe thead th {\n",
       "        text-align: right;\n",
       "    }\n",
       "</style>\n",
       "<table border=\"1\" class=\"dataframe\">\n",
       "  <thead>\n",
       "    <tr style=\"text-align: right;\">\n",
       "      <th></th>\n",
       "      <th>ticker</th>\n",
       "      <th>name</th>\n",
       "      <th>date_added</th>\n",
       "    </tr>\n",
       "  </thead>\n",
       "  <tbody>\n",
       "    <tr>\n",
       "      <th>0</th>\n",
       "      <td>MMM</td>\n",
       "      <td>3M</td>\n",
       "      <td>1957-03-04</td>\n",
       "    </tr>\n",
       "    <tr>\n",
       "      <th>1</th>\n",
       "      <td>AOS</td>\n",
       "      <td>A. O. Smith</td>\n",
       "      <td>2017-07-26</td>\n",
       "    </tr>\n",
       "    <tr>\n",
       "      <th>2</th>\n",
       "      <td>ABT</td>\n",
       "      <td>Abbott Laboratories</td>\n",
       "      <td>1957-03-04</td>\n",
       "    </tr>\n",
       "    <tr>\n",
       "      <th>3</th>\n",
       "      <td>ABBV</td>\n",
       "      <td>AbbVie</td>\n",
       "      <td>2012-12-31</td>\n",
       "    </tr>\n",
       "    <tr>\n",
       "      <th>4</th>\n",
       "      <td>ACN</td>\n",
       "      <td>Accenture</td>\n",
       "      <td>2011-07-06</td>\n",
       "    </tr>\n",
       "  </tbody>\n",
       "</table>\n",
       "</div>"
      ],
      "text/plain": [
       "  ticker                 name date_added\n",
       "0    MMM                   3M 1957-03-04\n",
       "1    AOS          A. O. Smith 2017-07-26\n",
       "2    ABT  Abbott Laboratories 1957-03-04\n",
       "3   ABBV               AbbVie 2012-12-31\n",
       "4    ACN            Accenture 2011-07-06"
      ]
     },
     "execution_count": 33,
     "metadata": {},
     "output_type": "execute_result"
    }
   ],
   "source": [
    "wikipedia_url = \"https://en.wikipedia.org/wiki/List_of_S%26P_500_companies\"\n",
    "df =pd.read_html(\n",
    "    io=wikipedia_url, \n",
    "    attrs={\"id\": \"constituents\"},\n",
    "    parse_dates=[\"Date added\"],\n",
    ")[0]\n",
    "df = df[[\"Symbol\", \"Security\", \"Date added\"]].rename(\n",
    "    columns={\n",
    "        \"Symbol\": \"ticker\",\n",
    "        \"Security\": \"name\",\n",
    "        \"Date added\": \"date_added\",\n",
    "    }\n",
    ")\n",
    "df.head()"
   ]
  },
  {
   "cell_type": "markdown",
   "id": "7ddfa60b",
   "metadata": {},
   "source": [
    "#### Which year had the highest number of additions (1957 doesn't count, as it was the year when the S&P 500 index was founded)?"
   ]
  },
  {
   "cell_type": "code",
   "execution_count": 48,
   "id": "e0e44ab7",
   "metadata": {},
   "outputs": [
    {
     "name": "stdout",
     "output_type": "stream",
     "text": [
      "The year with the highest number of S&P 500 additions is 2017 with 23 additions.\n"
     ]
    }
   ],
   "source": [
    "# group by year added and count the number of companies added each year\n",
    "df[\"year_added\"] = df[\"date_added\"].dt.year\n",
    "df_yearly = df.groupby(\"year_added\").size().reset_index(name=\"count\")\n",
    "\n",
    "higher_additions = df_yearly[df_yearly[\"year_added\"] != 1957].sort_values(\n",
    "    by=\"count\", ascending=False).iloc[0]\n",
    "\n",
    "print(\n",
    "    f\"The year with the highest number of S&P 500 additions is \"\n",
    "    f\"{higher_additions['year_added']} with {higher_additions['count']} additions.\"\n",
    "    )"
   ]
  },
  {
   "cell_type": "markdown",
   "id": "efb31539",
   "metadata": {},
   "source": [
    "#### Additional: How many current S&P 500 stocks have been in the index for more than 20 years?"
   ]
  },
  {
   "cell_type": "code",
   "execution_count": 173,
   "id": "f6685294",
   "metadata": {},
   "outputs": [
    {
     "data": {
      "text/html": [
       "<div>\n",
       "<style scoped>\n",
       "    .dataframe tbody tr th:only-of-type {\n",
       "        vertical-align: middle;\n",
       "    }\n",
       "\n",
       "    .dataframe tbody tr th {\n",
       "        vertical-align: top;\n",
       "    }\n",
       "\n",
       "    .dataframe thead th {\n",
       "        text-align: right;\n",
       "    }\n",
       "</style>\n",
       "<table border=\"1\" class=\"dataframe\">\n",
       "  <thead>\n",
       "    <tr style=\"text-align: right;\">\n",
       "      <th></th>\n",
       "      <th>date</th>\n",
       "      <th>added</th>\n",
       "      <th>removed</th>\n",
       "    </tr>\n",
       "  </thead>\n",
       "  <tbody>\n",
       "    <tr>\n",
       "      <th>0</th>\n",
       "      <td>2025-05-19</td>\n",
       "      <td>COIN</td>\n",
       "      <td>DFS</td>\n",
       "    </tr>\n",
       "    <tr>\n",
       "      <th>1</th>\n",
       "      <td>2025-03-24</td>\n",
       "      <td>DASH</td>\n",
       "      <td>BWA</td>\n",
       "    </tr>\n",
       "    <tr>\n",
       "      <th>2</th>\n",
       "      <td>2025-03-24</td>\n",
       "      <td>TKO</td>\n",
       "      <td>TFX</td>\n",
       "    </tr>\n",
       "    <tr>\n",
       "      <th>3</th>\n",
       "      <td>2025-03-24</td>\n",
       "      <td>WSM</td>\n",
       "      <td>CE</td>\n",
       "    </tr>\n",
       "    <tr>\n",
       "      <th>4</th>\n",
       "      <td>2025-03-24</td>\n",
       "      <td>EXE</td>\n",
       "      <td>FMC</td>\n",
       "    </tr>\n",
       "  </tbody>\n",
       "</table>\n",
       "</div>"
      ],
      "text/plain": [
       "        date added removed\n",
       "0 2025-05-19  COIN     DFS\n",
       "1 2025-03-24  DASH     BWA\n",
       "2 2025-03-24   TKO     TFX\n",
       "3 2025-03-24   WSM      CE\n",
       "4 2025-03-24   EXE     FMC"
      ]
     },
     "execution_count": 173,
     "metadata": {},
     "output_type": "execute_result"
    }
   ],
   "source": [
    "df = pd.read_html(\n",
    "    io=wikipedia_url,\n",
    "    attrs={\"id\": \"changes\"},\n",
    "    parse_dates=[('Date', 'Date')],\n",
    ")[0]\n",
    "df = df[[(\"Date\", \"Date\"), (\"Added\", \"Ticker\"), (\"Removed\", \"Ticker\")]].rename(\n",
    "    columns={\n",
    "        \"Date\": \"date\",\n",
    "        \"Added\": \"added\",\n",
    "        \"Removed\": \"removed\",\n",
    "    }\n",
    ")\n",
    "df.columns = df.columns.droplevel(1)\n",
    "df.head()"
   ]
  },
  {
   "cell_type": "code",
   "execution_count": 176,
   "id": "1b5e5eb1",
   "metadata": {},
   "outputs": [
    {
     "data": {
      "text/html": [
       "<div>\n",
       "<style scoped>\n",
       "    .dataframe tbody tr th:only-of-type {\n",
       "        vertical-align: middle;\n",
       "    }\n",
       "\n",
       "    .dataframe tbody tr th {\n",
       "        vertical-align: top;\n",
       "    }\n",
       "\n",
       "    .dataframe thead th {\n",
       "        text-align: right;\n",
       "    }\n",
       "</style>\n",
       "<table border=\"1\" class=\"dataframe\">\n",
       "  <thead>\n",
       "    <tr style=\"text-align: right;\">\n",
       "      <th></th>\n",
       "      <th>date</th>\n",
       "      <th>action</th>\n",
       "      <th>ticker</th>\n",
       "    </tr>\n",
       "  </thead>\n",
       "  <tbody>\n",
       "    <tr>\n",
       "      <th>0</th>\n",
       "      <td>2025-05-19</td>\n",
       "      <td>added</td>\n",
       "      <td>COIN</td>\n",
       "    </tr>\n",
       "    <tr>\n",
       "      <th>1</th>\n",
       "      <td>2025-03-24</td>\n",
       "      <td>added</td>\n",
       "      <td>DASH</td>\n",
       "    </tr>\n",
       "    <tr>\n",
       "      <th>2</th>\n",
       "      <td>2025-03-24</td>\n",
       "      <td>added</td>\n",
       "      <td>TKO</td>\n",
       "    </tr>\n",
       "    <tr>\n",
       "      <th>3</th>\n",
       "      <td>2025-03-24</td>\n",
       "      <td>added</td>\n",
       "      <td>WSM</td>\n",
       "    </tr>\n",
       "    <tr>\n",
       "      <th>4</th>\n",
       "      <td>2025-03-24</td>\n",
       "      <td>added</td>\n",
       "      <td>EXE</td>\n",
       "    </tr>\n",
       "  </tbody>\n",
       "</table>\n",
       "</div>"
      ],
      "text/plain": [
       "        date action ticker\n",
       "0 2025-05-19  added   COIN\n",
       "1 2025-03-24  added   DASH\n",
       "2 2025-03-24  added    TKO\n",
       "3 2025-03-24  added    WSM\n",
       "4 2025-03-24  added    EXE"
      ]
     },
     "execution_count": 176,
     "metadata": {},
     "output_type": "execute_result"
    }
   ],
   "source": [
    "# reformat the dataframe to have one row per ticket and two columns: 'added' and 'removed'\n",
    "df_melted = df.melt(\n",
    "    id_vars=[\"date\"],\n",
    "    value_vars=[\"added\", \"removed\"],\n",
    "    var_name=\"action\",\n",
    "    value_name=\"ticker\"\n",
    ")\n",
    "df_melted.head()"
   ]
  },
  {
   "cell_type": "code",
   "execution_count": 175,
   "id": "c23e6161",
   "metadata": {},
   "outputs": [
    {
     "name": "stdout",
     "output_type": "stream",
     "text": [
      "There are 10 tickers with more than 20 years in the S&P 500.\n"
     ]
    }
   ],
   "source": [
    "# Separate and sort\n",
    "added = df_melted[df_melted['action'] == 'added'].sort_values(\n",
    "    ['ticker', 'date']).copy()\n",
    "removed = df_melted[df_melted['action'] == 'removed'].sort_values(\n",
    "    ['ticker', 'date']).copy()\n",
    "\n",
    "# Assign a group number per ticker for pairing\n",
    "added['cycle'] = added.groupby('ticker').cumcount()\n",
    "removed['cycle'] = removed.groupby('ticker').cumcount()\n",
    "\n",
    "# Merge on ticker + cycle\n",
    "result = pd.merge(\n",
    "    added[['ticker', 'date']].assign(cycle=added['cycle']),\n",
    "    removed[['ticker', 'date']].assign(cycle=removed['cycle']),\n",
    "    on=['ticker', 'cycle'],\n",
    "    how='left',\n",
    "    suffixes=('_added', '_removed')\n",
    ").drop(columns='cycle'\n",
    "       ).dropna(subset=[\"ticker\"])\n",
    "\n",
    "# print(f\"any column has nan?:\\n{result.isna().any()}\\n\")\n",
    "\n",
    "# for tickers without a removal date, set it to today's date\n",
    "result['date_removed'] = result['date_removed'].fillna(pd.Timestamp.today())\n",
    "\n",
    "# print(f\"any column has nan?:\\n{result.isna().any()}\\n\")\n",
    "\n",
    "# add a column for the number of days in the S&P 500\n",
    "result['days_in_sp500'] = (\n",
    "    result['date_removed'] - result['date_added']\n",
    ").dt.days\n",
    "\n",
    "# group by ticker and get tue sum of days_in_sp500\n",
    "result_grouped = result.groupby('ticker').agg(\n",
    "    total_days_in_sp500=('days_in_sp500', 'sum')\n",
    ").reset_index()\n",
    "# sort by total_days_in_sp500 in descending order\n",
    "result_grouped = result_grouped.sort_values(\n",
    "    by='total_days_in_sp500', ascending=False\n",
    ")\n",
    "# get total_years_in_sp500\n",
    "result_grouped['total_years_in_sp500'] = (\n",
    "    result_grouped['total_days_in_sp500'] / 365.25\n",
    ").round(2)\n",
    "# count the number of tickers with more than 20 years in the S&P 500\n",
    "count_more_than_20_years = (\n",
    "    result_grouped[result_grouped['total_years_in_sp500'] > 20].shape[0]\n",
    ")\n",
    "print(\n",
    "    f\"There are {count_more_than_20_years} tickers with more than 20 years in the S&P 500.\"\n",
    ")"
   ]
  },
  {
   "cell_type": "code",
   "execution_count": 159,
   "id": "182fc29e",
   "metadata": {},
   "outputs": [
    {
     "data": {
      "text/plain": [
       "Timestamp('2024-09-23 00:00:00')"
      ]
     },
     "execution_count": 159,
     "metadata": {},
     "output_type": "execute_result"
    }
   ],
   "source": [
    "result['date_removed'].iloc[0]"
   ]
  },
  {
   "cell_type": "code",
   "execution_count": 158,
   "id": "2c13a870",
   "metadata": {},
   "outputs": [
    {
     "data": {
      "text/plain": [
       "Timestamp('2015-03-23 00:00:00')"
      ]
     },
     "execution_count": 158,
     "metadata": {},
     "output_type": "execute_result"
    }
   ],
   "source": [
    "result['date_added'].iloc[0]"
   ]
  },
  {
   "cell_type": "code",
   "execution_count": 107,
   "id": "4fbb8df7",
   "metadata": {},
   "outputs": [
    {
     "data": {
      "text/html": [
       "<div>\n",
       "<style scoped>\n",
       "    .dataframe tbody tr th:only-of-type {\n",
       "        vertical-align: middle;\n",
       "    }\n",
       "\n",
       "    .dataframe tbody tr th {\n",
       "        vertical-align: top;\n",
       "    }\n",
       "\n",
       "    .dataframe thead th {\n",
       "        text-align: right;\n",
       "    }\n",
       "</style>\n",
       "<table border=\"1\" class=\"dataframe\">\n",
       "  <thead>\n",
       "    <tr style=\"text-align: right;\">\n",
       "      <th></th>\n",
       "      <th>date</th>\n",
       "      <th>action</th>\n",
       "      <th>ticker</th>\n",
       "    </tr>\n",
       "  </thead>\n",
       "  <tbody>\n",
       "    <tr>\n",
       "      <th>551</th>\n",
       "      <td>2016-11-01</td>\n",
       "      <td>removed</td>\n",
       "      <td>AA</td>\n",
       "    </tr>\n",
       "    <tr>\n",
       "      <th>228</th>\n",
       "      <td>2015-03-23</td>\n",
       "      <td>added</td>\n",
       "      <td>AAL</td>\n",
       "    </tr>\n",
       "    <tr>\n",
       "      <th>383</th>\n",
       "      <td>2024-09-23</td>\n",
       "      <td>removed</td>\n",
       "      <td>AAL</td>\n",
       "    </tr>\n",
       "    <tr>\n",
       "      <th>221</th>\n",
       "      <td>2015-07-08</td>\n",
       "      <td>added</td>\n",
       "      <td>AAP</td>\n",
       "    </tr>\n",
       "    <tr>\n",
       "      <th>405</th>\n",
       "      <td>2023-08-25</td>\n",
       "      <td>removed</td>\n",
       "      <td>AAP</td>\n",
       "    </tr>\n",
       "    <tr>\n",
       "      <th>...</th>\n",
       "      <td>...</td>\n",
       "      <td>...</td>\n",
       "      <td>...</td>\n",
       "    </tr>\n",
       "    <tr>\n",
       "      <th>392</th>\n",
       "      <td>2024-04-02</td>\n",
       "      <td>removed</td>\n",
       "      <td>NaN</td>\n",
       "    </tr>\n",
       "    <tr>\n",
       "      <th>18</th>\n",
       "      <td>2024-04-03</td>\n",
       "      <td>added</td>\n",
       "      <td>NaN</td>\n",
       "    </tr>\n",
       "    <tr>\n",
       "      <th>19</th>\n",
       "      <td>2024-04-03</td>\n",
       "      <td>added</td>\n",
       "      <td>NaN</td>\n",
       "    </tr>\n",
       "    <tr>\n",
       "      <th>382</th>\n",
       "      <td>2024-09-30</td>\n",
       "      <td>removed</td>\n",
       "      <td>NaN</td>\n",
       "    </tr>\n",
       "    <tr>\n",
       "      <th>9</th>\n",
       "      <td>2024-10-01</td>\n",
       "      <td>added</td>\n",
       "      <td>NaN</td>\n",
       "    </tr>\n",
       "  </tbody>\n",
       "</table>\n",
       "<p>744 rows × 3 columns</p>\n",
       "</div>"
      ],
      "text/plain": [
       "          date   action ticker\n",
       "551 2016-11-01  removed     AA\n",
       "228 2015-03-23    added    AAL\n",
       "383 2024-09-23  removed    AAL\n",
       "221 2015-07-08    added    AAP\n",
       "405 2023-08-25  removed    AAP\n",
       "..         ...      ...    ...\n",
       "392 2024-04-02  removed    NaN\n",
       "18  2024-04-03    added    NaN\n",
       "19  2024-04-03    added    NaN\n",
       "382 2024-09-30  removed    NaN\n",
       "9   2024-10-01    added    NaN\n",
       "\n",
       "[744 rows x 3 columns]"
      ]
     },
     "execution_count": 107,
     "metadata": {},
     "output_type": "execute_result"
    }
   ],
   "source": [
    "# for the same ticker, substract the removed from the added dates\n",
    "# df_melted[\"date\"] = pd.to_datetime(df_melted[\"date\"])\n",
    "df_melted.sort_values(by=[\"ticker\", \"date\"])\n"
   ]
  },
  {
   "cell_type": "code",
   "execution_count": null,
   "id": "13018cd8",
   "metadata": {},
   "outputs": [],
   "source": [
    "df_melted2 = df_melted.melt(\n",
    "    id_vars=[\"action\", \"ticker\"],\n",
    "    value_vars=[\"date\"],\n",
    "    var_name\n",
    ")"
   ]
  },
  {
   "cell_type": "code",
   "execution_count": 96,
   "id": "45343701",
   "metadata": {},
   "outputs": [
    {
     "ename": "ValueError",
     "evalue": "value_name (date) cannot match an element in the DataFrame columns.",
     "output_type": "error",
     "traceback": [
      "\u001b[31m---------------------------------------------------------------------------\u001b[39m",
      "\u001b[31mValueError\u001b[39m                                Traceback (most recent call last)",
      "\u001b[36mCell\u001b[39m\u001b[36m \u001b[39m\u001b[32mIn[96]\u001b[39m\u001b[32m, line 1\u001b[39m\n\u001b[32m----> \u001b[39m\u001b[32m1\u001b[39m df_melted2 = \u001b[43mdf\u001b[49m\u001b[43m.\u001b[49m\u001b[43mmelt\u001b[49m\u001b[43m(\u001b[49m\n\u001b[32m      2\u001b[39m \u001b[43m    \u001b[49m\u001b[43mid_vars\u001b[49m\u001b[43m=\u001b[49m\u001b[43m[\u001b[49m\u001b[33;43m\"\u001b[39;49m\u001b[33;43madded\u001b[39;49m\u001b[33;43m\"\u001b[39;49m\u001b[43m,\u001b[49m\u001b[43m \u001b[49m\u001b[33;43m\"\u001b[39;49m\u001b[33;43mremoved\u001b[39;49m\u001b[33;43m\"\u001b[39;49m\u001b[43m]\u001b[49m\u001b[43m,\u001b[49m\n\u001b[32m      3\u001b[39m \u001b[43m    \u001b[49m\u001b[43mvalue_vars\u001b[49m\u001b[43m=\u001b[49m\u001b[43m[\u001b[49m\u001b[33;43m\"\u001b[39;49m\u001b[33;43mdate\u001b[39;49m\u001b[33;43m\"\u001b[39;49m\u001b[43m]\u001b[49m\u001b[43m,\u001b[49m\n\u001b[32m      4\u001b[39m \u001b[43m    \u001b[49m\u001b[43mvar_name\u001b[49m\u001b[43m=\u001b[49m\u001b[33;43m\"\u001b[39;49m\u001b[33;43mticker\u001b[39;49m\u001b[33;43m\"\u001b[39;49m\u001b[43m,\u001b[49m\n\u001b[32m      5\u001b[39m \u001b[43m    \u001b[49m\u001b[43mvalue_name\u001b[49m\u001b[43m=\u001b[49m\u001b[33;43m\"\u001b[39;49m\u001b[33;43mdate\u001b[39;49m\u001b[33;43m\"\u001b[39;49m\n\u001b[32m      6\u001b[39m \u001b[43m)\u001b[49m\n",
      "\u001b[36mFile \u001b[39m\u001b[32m/workspaces/stock-markets-analytics-zoomcamp/.venv/lib/python3.12/site-packages/pandas/core/frame.py:9942\u001b[39m, in \u001b[36mDataFrame.melt\u001b[39m\u001b[34m(self, id_vars, value_vars, var_name, value_name, col_level, ignore_index)\u001b[39m\n\u001b[32m   9932\u001b[39m \u001b[38;5;129m@Appender\u001b[39m(_shared_docs[\u001b[33m\"\u001b[39m\u001b[33mmelt\u001b[39m\u001b[33m\"\u001b[39m] % {\u001b[33m\"\u001b[39m\u001b[33mcaller\u001b[39m\u001b[33m\"\u001b[39m: \u001b[33m\"\u001b[39m\u001b[33mdf.melt(\u001b[39m\u001b[33m\"\u001b[39m, \u001b[33m\"\u001b[39m\u001b[33mother\u001b[39m\u001b[33m\"\u001b[39m: \u001b[33m\"\u001b[39m\u001b[33mmelt\u001b[39m\u001b[33m\"\u001b[39m})\n\u001b[32m   9933\u001b[39m \u001b[38;5;28;01mdef\u001b[39;00m\u001b[38;5;250m \u001b[39m\u001b[34mmelt\u001b[39m(\n\u001b[32m   9934\u001b[39m     \u001b[38;5;28mself\u001b[39m,\n\u001b[32m   (...)\u001b[39m\u001b[32m   9940\u001b[39m     ignore_index: \u001b[38;5;28mbool\u001b[39m = \u001b[38;5;28;01mTrue\u001b[39;00m,\n\u001b[32m   9941\u001b[39m ) -> DataFrame:\n\u001b[32m-> \u001b[39m\u001b[32m9942\u001b[39m     \u001b[38;5;28;01mreturn\u001b[39;00m \u001b[43mmelt\u001b[49m\u001b[43m(\u001b[49m\n\u001b[32m   9943\u001b[39m \u001b[43m        \u001b[49m\u001b[38;5;28;43mself\u001b[39;49m\u001b[43m,\u001b[49m\n\u001b[32m   9944\u001b[39m \u001b[43m        \u001b[49m\u001b[43mid_vars\u001b[49m\u001b[43m=\u001b[49m\u001b[43mid_vars\u001b[49m\u001b[43m,\u001b[49m\n\u001b[32m   9945\u001b[39m \u001b[43m        \u001b[49m\u001b[43mvalue_vars\u001b[49m\u001b[43m=\u001b[49m\u001b[43mvalue_vars\u001b[49m\u001b[43m,\u001b[49m\n\u001b[32m   9946\u001b[39m \u001b[43m        \u001b[49m\u001b[43mvar_name\u001b[49m\u001b[43m=\u001b[49m\u001b[43mvar_name\u001b[49m\u001b[43m,\u001b[49m\n\u001b[32m   9947\u001b[39m \u001b[43m        \u001b[49m\u001b[43mvalue_name\u001b[49m\u001b[43m=\u001b[49m\u001b[43mvalue_name\u001b[49m\u001b[43m,\u001b[49m\n\u001b[32m   9948\u001b[39m \u001b[43m        \u001b[49m\u001b[43mcol_level\u001b[49m\u001b[43m=\u001b[49m\u001b[43mcol_level\u001b[49m\u001b[43m,\u001b[49m\n\u001b[32m   9949\u001b[39m \u001b[43m        \u001b[49m\u001b[43mignore_index\u001b[49m\u001b[43m=\u001b[49m\u001b[43mignore_index\u001b[49m\u001b[43m,\u001b[49m\n\u001b[32m   9950\u001b[39m \u001b[43m    \u001b[49m\u001b[43m)\u001b[49m.__finalize__(\u001b[38;5;28mself\u001b[39m, method=\u001b[33m\"\u001b[39m\u001b[33mmelt\u001b[39m\u001b[33m\"\u001b[39m)\n",
      "\u001b[36mFile \u001b[39m\u001b[32m/workspaces/stock-markets-analytics-zoomcamp/.venv/lib/python3.12/site-packages/pandas/core/reshape/melt.py:54\u001b[39m, in \u001b[36mmelt\u001b[39m\u001b[34m(frame, id_vars, value_vars, var_name, value_name, col_level, ignore_index)\u001b[39m\n\u001b[32m     43\u001b[39m \u001b[38;5;129m@Appender\u001b[39m(_shared_docs[\u001b[33m\"\u001b[39m\u001b[33mmelt\u001b[39m\u001b[33m\"\u001b[39m] % {\u001b[33m\"\u001b[39m\u001b[33mcaller\u001b[39m\u001b[33m\"\u001b[39m: \u001b[33m\"\u001b[39m\u001b[33mpd.melt(df, \u001b[39m\u001b[33m\"\u001b[39m, \u001b[33m\"\u001b[39m\u001b[33mother\u001b[39m\u001b[33m\"\u001b[39m: \u001b[33m\"\u001b[39m\u001b[33mDataFrame.melt\u001b[39m\u001b[33m\"\u001b[39m})\n\u001b[32m     44\u001b[39m \u001b[38;5;28;01mdef\u001b[39;00m\u001b[38;5;250m \u001b[39m\u001b[34mmelt\u001b[39m(\n\u001b[32m     45\u001b[39m     frame: DataFrame,\n\u001b[32m   (...)\u001b[39m\u001b[32m     51\u001b[39m     ignore_index: \u001b[38;5;28mbool\u001b[39m = \u001b[38;5;28;01mTrue\u001b[39;00m,\n\u001b[32m     52\u001b[39m ) -> DataFrame:\n\u001b[32m     53\u001b[39m     \u001b[38;5;28;01mif\u001b[39;00m value_name \u001b[38;5;129;01min\u001b[39;00m frame.columns:\n\u001b[32m---> \u001b[39m\u001b[32m54\u001b[39m         \u001b[38;5;28;01mraise\u001b[39;00m \u001b[38;5;167;01mValueError\u001b[39;00m(\n\u001b[32m     55\u001b[39m             \u001b[33mf\u001b[39m\u001b[33m\"\u001b[39m\u001b[33mvalue_name (\u001b[39m\u001b[38;5;132;01m{\u001b[39;00mvalue_name\u001b[38;5;132;01m}\u001b[39;00m\u001b[33m) cannot match an element in \u001b[39m\u001b[33m\"\u001b[39m\n\u001b[32m     56\u001b[39m             \u001b[33m\"\u001b[39m\u001b[33mthe DataFrame columns.\u001b[39m\u001b[33m\"\u001b[39m\n\u001b[32m     57\u001b[39m         )\n\u001b[32m     58\u001b[39m     id_vars = ensure_list_vars(id_vars, \u001b[33m\"\u001b[39m\u001b[33mid_vars\u001b[39m\u001b[33m\"\u001b[39m, frame.columns)\n\u001b[32m     59\u001b[39m     value_vars_was_not_none = value_vars \u001b[38;5;129;01mis\u001b[39;00m \u001b[38;5;129;01mnot\u001b[39;00m \u001b[38;5;28;01mNone\u001b[39;00m\n",
      "\u001b[31mValueError\u001b[39m: value_name (date) cannot match an element in the DataFrame columns."
     ]
    }
   ],
   "source": [
    "df_melted2 = df.melt(\n",
    "    id_vars=[\"added\", \"removed\"],\n",
    "    value_vars=[\"date\"],\n",
    "    var_name=\"ticker\",\n",
    "    value_name=\"date\"\n",
    ")"
   ]
  },
  {
   "cell_type": "markdown",
   "id": "3e9c69b2",
   "metadata": {},
   "source": [
    "### Question 2. [Macro] Indexes YTD (as of 1 May 2025)"
   ]
  },
  {
   "cell_type": "code",
   "execution_count": null,
   "id": "364b8c1c",
   "metadata": {},
   "outputs": [],
   "source": []
  }
 ],
 "metadata": {
  "kernelspec": {
   "display_name": ".venv",
   "language": "python",
   "name": "python3"
  },
  "language_info": {
   "codemirror_mode": {
    "name": "ipython",
    "version": 3
   },
   "file_extension": ".py",
   "mimetype": "text/x-python",
   "name": "python",
   "nbconvert_exporter": "python",
   "pygments_lexer": "ipython3",
   "version": "3.12.10"
  }
 },
 "nbformat": 4,
 "nbformat_minor": 5
}
